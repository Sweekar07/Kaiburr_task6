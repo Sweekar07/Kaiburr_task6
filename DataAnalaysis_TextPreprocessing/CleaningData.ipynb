{
 "cells": [
  {
   "cell_type": "markdown",
   "metadata": {},
   "source": [
    "# --> 1. Explanatory Data Analysis and Feature Engineering"
   ]
  },
  {
   "cell_type": "markdown",
   "metadata": {},
   "source": [
    "## Reading the dataset using pandas:"
   ]
  },
  {
   "cell_type": "code",
   "execution_count": 1,
   "metadata": {},
   "outputs": [
    {
     "name": "stdout",
     "output_type": "stream",
     "text": [
      "<class 'pandas.core.frame.DataFrame'>\n",
      "RangeIndex: 4060417 entries, 0 to 4060416\n",
      "Columns: 18 entries, Date received to Complaint ID\n",
      "dtypes: int64(1), object(17)\n",
      "memory usage: 5.8 GB\n"
     ]
    }
   ],
   "source": [
    "import pandas as pd\n",
    "\n",
    "df = pd.read_csv(\"complaints.csv\")\n",
    "df.info(verbose=False, memory_usage=\"deep\") #verbose is set to False to see the high level details of the data"
   ]
  },
  {
   "cell_type": "markdown",
   "metadata": {},
   "source": [
    "# understanding the data"
   ]
  },
  {
   "cell_type": "markdown",
   "metadata": {},
   "source": [
    "#### reading 5 random rows of dataframe"
   ]
  },
  {
   "cell_type": "code",
   "execution_count": 2,
   "metadata": {},
   "outputs": [
    {
     "data": {
      "text/html": [
       "<div>\n",
       "<style scoped>\n",
       "    .dataframe tbody tr th:only-of-type {\n",
       "        vertical-align: middle;\n",
       "    }\n",
       "\n",
       "    .dataframe tbody tr th {\n",
       "        vertical-align: top;\n",
       "    }\n",
       "\n",
       "    .dataframe thead th {\n",
       "        text-align: right;\n",
       "    }\n",
       "</style>\n",
       "<table border=\"1\" class=\"dataframe\">\n",
       "  <thead>\n",
       "    <tr style=\"text-align: right;\">\n",
       "      <th></th>\n",
       "      <th>Date received</th>\n",
       "      <th>Product</th>\n",
       "      <th>Sub-product</th>\n",
       "      <th>Issue</th>\n",
       "      <th>Sub-issue</th>\n",
       "      <th>Consumer complaint narrative</th>\n",
       "      <th>Company public response</th>\n",
       "      <th>Company</th>\n",
       "      <th>State</th>\n",
       "      <th>ZIP code</th>\n",
       "      <th>Tags</th>\n",
       "      <th>Consumer consent provided?</th>\n",
       "      <th>Submitted via</th>\n",
       "      <th>Date sent to company</th>\n",
       "      <th>Company response to consumer</th>\n",
       "      <th>Timely response?</th>\n",
       "      <th>Consumer disputed?</th>\n",
       "      <th>Complaint ID</th>\n",
       "    </tr>\n",
       "  </thead>\n",
       "  <tbody>\n",
       "    <tr>\n",
       "      <th>855731</th>\n",
       "      <td>2022-04-14</td>\n",
       "      <td>Credit reporting, credit repair services, or o...</td>\n",
       "      <td>Credit reporting</td>\n",
       "      <td>Problem with a credit reporting company's inve...</td>\n",
       "      <td>Their investigation did not fix an error on yo...</td>\n",
       "      <td>NaN</td>\n",
       "      <td>Company has responded to the consumer and the ...</td>\n",
       "      <td>Experian Information Solutions Inc.</td>\n",
       "      <td>WI</td>\n",
       "      <td>54923</td>\n",
       "      <td>NaN</td>\n",
       "      <td>Other</td>\n",
       "      <td>Web</td>\n",
       "      <td>2022-04-14</td>\n",
       "      <td>Closed with explanation</td>\n",
       "      <td>Yes</td>\n",
       "      <td>NaN</td>\n",
       "      <td>5450955</td>\n",
       "    </tr>\n",
       "    <tr>\n",
       "      <th>3265283</th>\n",
       "      <td>2012-10-03</td>\n",
       "      <td>Bank account or service</td>\n",
       "      <td>Checking account</td>\n",
       "      <td>Deposits and withdrawals</td>\n",
       "      <td>NaN</td>\n",
       "      <td>NaN</td>\n",
       "      <td>NaN</td>\n",
       "      <td>JPMORGAN CHASE &amp; CO.</td>\n",
       "      <td>NY</td>\n",
       "      <td>11237</td>\n",
       "      <td>NaN</td>\n",
       "      <td>NaN</td>\n",
       "      <td>Web</td>\n",
       "      <td>2012-10-05</td>\n",
       "      <td>Closed with explanation</td>\n",
       "      <td>Yes</td>\n",
       "      <td>Yes</td>\n",
       "      <td>165306</td>\n",
       "    </tr>\n",
       "    <tr>\n",
       "      <th>640094</th>\n",
       "      <td>2019-10-24</td>\n",
       "      <td>Credit reporting, credit repair services, or o...</td>\n",
       "      <td>Credit reporting</td>\n",
       "      <td>Incorrect information on your report</td>\n",
       "      <td>Information belongs to someone else</td>\n",
       "      <td>The main 3 Credit Bureaus are attempting to ig...</td>\n",
       "      <td>NaN</td>\n",
       "      <td>EQUIFAX, INC.</td>\n",
       "      <td>GA</td>\n",
       "      <td>30349</td>\n",
       "      <td>NaN</td>\n",
       "      <td>Consent provided</td>\n",
       "      <td>Web</td>\n",
       "      <td>2019-10-24</td>\n",
       "      <td>Closed with explanation</td>\n",
       "      <td>Yes</td>\n",
       "      <td>NaN</td>\n",
       "      <td>3416978</td>\n",
       "    </tr>\n",
       "    <tr>\n",
       "      <th>2847490</th>\n",
       "      <td>2020-05-27</td>\n",
       "      <td>Credit reporting, credit repair services, or o...</td>\n",
       "      <td>Credit reporting</td>\n",
       "      <td>Incorrect information on your report</td>\n",
       "      <td>Account status incorrect</td>\n",
       "      <td>NaN</td>\n",
       "      <td>Company has responded to the consumer and the ...</td>\n",
       "      <td>Experian Information Solutions Inc.</td>\n",
       "      <td>DE</td>\n",
       "      <td>19701</td>\n",
       "      <td>NaN</td>\n",
       "      <td>NaN</td>\n",
       "      <td>Phone</td>\n",
       "      <td>2020-05-27</td>\n",
       "      <td>Closed with explanation</td>\n",
       "      <td>Yes</td>\n",
       "      <td>NaN</td>\n",
       "      <td>3669793</td>\n",
       "    </tr>\n",
       "    <tr>\n",
       "      <th>747198</th>\n",
       "      <td>2018-06-14</td>\n",
       "      <td>Mortgage</td>\n",
       "      <td>Conventional home mortgage</td>\n",
       "      <td>Struggling to pay mortgage</td>\n",
       "      <td>NaN</td>\n",
       "      <td>I have been working with this servicer for the...</td>\n",
       "      <td>Company has responded to the consumer and the ...</td>\n",
       "      <td>SELECT PORTFOLIO SERVICING, INC.</td>\n",
       "      <td>CT</td>\n",
       "      <td>065XX</td>\n",
       "      <td>NaN</td>\n",
       "      <td>Consent provided</td>\n",
       "      <td>Web</td>\n",
       "      <td>2018-06-14</td>\n",
       "      <td>Closed with explanation</td>\n",
       "      <td>Yes</td>\n",
       "      <td>NaN</td>\n",
       "      <td>2935560</td>\n",
       "    </tr>\n",
       "  </tbody>\n",
       "</table>\n",
       "</div>"
      ],
      "text/plain": [
       "        Date received                                            Product   \n",
       "855731     2022-04-14  Credit reporting, credit repair services, or o...  \\\n",
       "3265283    2012-10-03                            Bank account or service   \n",
       "640094     2019-10-24  Credit reporting, credit repair services, or o...   \n",
       "2847490    2020-05-27  Credit reporting, credit repair services, or o...   \n",
       "747198     2018-06-14                                           Mortgage   \n",
       "\n",
       "                        Sub-product   \n",
       "855731             Credit reporting  \\\n",
       "3265283            Checking account   \n",
       "640094             Credit reporting   \n",
       "2847490            Credit reporting   \n",
       "747198   Conventional home mortgage   \n",
       "\n",
       "                                                     Issue   \n",
       "855731   Problem with a credit reporting company's inve...  \\\n",
       "3265283                           Deposits and withdrawals   \n",
       "640094                Incorrect information on your report   \n",
       "2847490               Incorrect information on your report   \n",
       "747198                          Struggling to pay mortgage   \n",
       "\n",
       "                                                 Sub-issue   \n",
       "855731   Their investigation did not fix an error on yo...  \\\n",
       "3265283                                                NaN   \n",
       "640094                 Information belongs to someone else   \n",
       "2847490                           Account status incorrect   \n",
       "747198                                                 NaN   \n",
       "\n",
       "                              Consumer complaint narrative   \n",
       "855731                                                 NaN  \\\n",
       "3265283                                                NaN   \n",
       "640094   The main 3 Credit Bureaus are attempting to ig...   \n",
       "2847490                                                NaN   \n",
       "747198   I have been working with this servicer for the...   \n",
       "\n",
       "                                   Company public response   \n",
       "855731   Company has responded to the consumer and the ...  \\\n",
       "3265283                                                NaN   \n",
       "640094                                                 NaN   \n",
       "2847490  Company has responded to the consumer and the ...   \n",
       "747198   Company has responded to the consumer and the ...   \n",
       "\n",
       "                                     Company State ZIP code Tags   \n",
       "855731   Experian Information Solutions Inc.    WI    54923  NaN  \\\n",
       "3265283                 JPMORGAN CHASE & CO.    NY    11237  NaN   \n",
       "640094                         EQUIFAX, INC.    GA    30349  NaN   \n",
       "2847490  Experian Information Solutions Inc.    DE    19701  NaN   \n",
       "747198      SELECT PORTFOLIO SERVICING, INC.    CT    065XX  NaN   \n",
       "\n",
       "        Consumer consent provided? Submitted via Date sent to company   \n",
       "855731                       Other           Web           2022-04-14  \\\n",
       "3265283                        NaN           Web           2012-10-05   \n",
       "640094            Consent provided           Web           2019-10-24   \n",
       "2847490                        NaN         Phone           2020-05-27   \n",
       "747198            Consent provided           Web           2018-06-14   \n",
       "\n",
       "        Company response to consumer Timely response? Consumer disputed?   \n",
       "855731       Closed with explanation              Yes                NaN  \\\n",
       "3265283      Closed with explanation              Yes                Yes   \n",
       "640094       Closed with explanation              Yes                NaN   \n",
       "2847490      Closed with explanation              Yes                NaN   \n",
       "747198       Closed with explanation              Yes                NaN   \n",
       "\n",
       "         Complaint ID  \n",
       "855731        5450955  \n",
       "3265283        165306  \n",
       "640094        3416978  \n",
       "2847490       3669793  \n",
       "747198        2935560  "
      ]
     },
     "execution_count": 2,
     "metadata": {},
     "output_type": "execute_result"
    }
   ],
   "source": [
    "df.sample(5)"
   ]
  },
  {
   "cell_type": "code",
   "execution_count": 3,
   "metadata": {},
   "outputs": [
    {
     "name": "stdout",
     "output_type": "stream",
     "text": [
      "<class 'pandas.core.frame.DataFrame'>\n",
      "RangeIndex: 4060417 entries, 0 to 4060416\n",
      "Data columns (total 18 columns):\n",
      " #   Column                        Dtype \n",
      "---  ------                        ----- \n",
      " 0   Date received                 object\n",
      " 1   Product                       object\n",
      " 2   Sub-product                   object\n",
      " 3   Issue                         object\n",
      " 4   Sub-issue                     object\n",
      " 5   Consumer complaint narrative  object\n",
      " 6   Company public response       object\n",
      " 7   Company                       object\n",
      " 8   State                         object\n",
      " 9   ZIP code                      object\n",
      " 10  Tags                          object\n",
      " 11  Consumer consent provided?    object\n",
      " 12  Submitted via                 object\n",
      " 13  Date sent to company          object\n",
      " 14  Company response to consumer  object\n",
      " 15  Timely response?              object\n",
      " 16  Consumer disputed?            object\n",
      " 17  Complaint ID                  int64 \n",
      "dtypes: int64(1), object(17)\n",
      "memory usage: 557.6+ MB\n"
     ]
    }
   ],
   "source": [
    "df.info()"
   ]
  },
  {
   "cell_type": "markdown",
   "metadata": {},
   "source": [
    "#### Checking the shape of data"
   ]
  },
  {
   "cell_type": "code",
   "execution_count": 4,
   "metadata": {},
   "outputs": [
    {
     "name": "stdout",
     "output_type": "stream",
     "text": [
      "40 lakh 60 thousand four hundread and seventeen rows with 18 columns\n"
     ]
    },
    {
     "data": {
      "text/plain": [
       "(4060417, 18)"
      ]
     },
     "execution_count": 4,
     "metadata": {},
     "output_type": "execute_result"
    }
   ],
   "source": [
    "print(\"40 lakh 60 thousand four hundread and seventeen rows with 18 columns\")\n",
    "df.shape"
   ]
  },
  {
   "cell_type": "markdown",
   "metadata": {},
   "source": [
    "#### Checking for any null values in the dataframe:"
   ]
  },
  {
   "cell_type": "code",
   "execution_count": 5,
   "metadata": {},
   "outputs": [
    {
     "data": {
      "text/plain": [
       "Date received                         0\n",
       "Product                               0\n",
       "Sub-product                      235291\n",
       "Issue                                 0\n",
       "Sub-issue                        716132\n",
       "Consumer complaint narrative    2590134\n",
       "Company public response         2184984\n",
       "Company                               0\n",
       "State                             43203\n",
       "ZIP code                          30210\n",
       "Tags                            3635525\n",
       "Consumer consent provided?       902243\n",
       "Submitted via                         0\n",
       "Date sent to company                  0\n",
       "Company response to consumer          5\n",
       "Timely response?                      0\n",
       "Consumer disputed?              3292059\n",
       "Complaint ID                          0\n",
       "dtype: int64"
      ]
     },
     "execution_count": 5,
     "metadata": {},
     "output_type": "execute_result"
    }
   ],
   "source": [
    "df.isnull().sum()"
   ]
  },
  {
   "cell_type": "markdown",
   "metadata": {},
   "source": [
    "### Check and drop the duplicated values if any"
   ]
  },
  {
   "cell_type": "code",
   "execution_count": 6,
   "metadata": {},
   "outputs": [
    {
     "name": "stdout",
     "output_type": "stream",
     "text": [
      "The duplicate values in the df is: 0\n",
      "we get 0 duplicated values here which is good so we are not dropping anything\n"
     ]
    }
   ],
   "source": [
    "print(\"The duplicate values in the df is:\",df.duplicated().sum())\n",
    "print(\"we get 0 duplicated values here which is good so we are not dropping anything\")"
   ]
  },
  {
   "cell_type": "markdown",
   "metadata": {},
   "source": [
    "### Descriptive statistics for numerical columns"
   ]
  },
  {
   "cell_type": "code",
   "execution_count": 7,
   "metadata": {},
   "outputs": [
    {
     "name": "stdout",
     "output_type": "stream",
     "text": [
      "\n",
      "Descriptive statistics for numerical columns:\n",
      "       Complaint ID\n",
      "count  4.060417e+06\n",
      "mean   4.318300e+06\n",
      "std    2.025607e+06\n",
      "min    1.000000e+00\n",
      "25%    2.870237e+06\n",
      "50%    4.253436e+06\n",
      "75%    6.140422e+06\n",
      "max    7.540405e+06\n"
     ]
    }
   ],
   "source": [
    "print(\"\\nDescriptive statistics for numerical columns:\")\n",
    "print(df.describe())"
   ]
  },
  {
   "cell_type": "markdown",
   "metadata": {},
   "source": [
    "### Descriptive statistics for categorical columns"
   ]
  },
  {
   "cell_type": "code",
   "execution_count": 8,
   "metadata": {},
   "outputs": [
    {
     "name": "stdout",
     "output_type": "stream",
     "text": [
      "\n",
      "Descriptive statistics for categorical columns:\n",
      "       Date received                                            Product   \n",
      "count        4060417                                            4060417  \\\n",
      "unique          4303                                                 21   \n",
      "top       2023-08-08  Credit reporting, credit repair services, or o...   \n",
      "freq            5136                                            2167414   \n",
      "\n",
      "             Sub-product                                 Issue   \n",
      "count            3825126                               4060417  \\\n",
      "unique                84                                   174   \n",
      "top     Credit reporting  Incorrect information on your report   \n",
      "freq             2184730                               1056122   \n",
      "\n",
      "                                  Sub-issue   \n",
      "count                               3344285  \\\n",
      "unique                                  265   \n",
      "top     Information belongs to someone else   \n",
      "freq                                 692979   \n",
      "\n",
      "                             Consumer complaint narrative   \n",
      "count                                             1470283  \\\n",
      "unique                                            1246034   \n",
      "top     My name is XXXX XXXX this complaint is not mad...   \n",
      "freq                                                 2076   \n",
      "\n",
      "                                  Company public response        Company   \n",
      "count                                             1875433        4060417  \\\n",
      "unique                                                 11           6937   \n",
      "top     Company has responded to the consumer and the ...  EQUIFAX, INC.   \n",
      "freq                                              1647428         774717   \n",
      "\n",
      "          State ZIP code           Tags Consumer consent provided?   \n",
      "count   4017214  4030207         424892                    3158174  \\\n",
      "unique       63    33078              3                          4   \n",
      "top          CA    XXXXX  Servicemember       Consent not provided   \n",
      "freq     474482   101175         245810                    1531239   \n",
      "\n",
      "       Submitted via Date sent to company Company response to consumer   \n",
      "count        4060417              4060417                      4060412  \\\n",
      "unique             7                 4252                            8   \n",
      "top              Web           2023-08-10      Closed with explanation   \n",
      "freq         3534769                 5316                      2949688   \n",
      "\n",
      "       Timely response? Consumer disputed?  \n",
      "count           4060417             768358  \n",
      "unique                2                  2  \n",
      "top                 Yes                 No  \n",
      "freq            4006558             619980  \n"
     ]
    }
   ],
   "source": [
    "print(\"\\nDescriptive statistics for categorical columns:\")\n",
    "print(df.describe(include=[\"O\"]))"
   ]
  },
  {
   "cell_type": "markdown",
   "metadata": {},
   "source": [
    "#### Finding the textual data column i.e Response Variable"
   ]
  },
  {
   "cell_type": "code",
   "execution_count": 9,
   "metadata": {},
   "outputs": [
    {
     "name": "stdout",
     "output_type": "stream",
     "text": [
      "I had a XXXX  credit card with Commenity bank in XXXX to XXXX it closed and I havent dealt with this company since then. I filed bankruptcy and it was discharged XX/XX/XXXX, I called and advised them prior to it being filed and after filed given case number etc. They went on my report and filed a inquiry from XXXX as if I applied for an account and made remarks after knowing it was discharged with that causing my credit to be decreased and still having the inquiry on my report today. I have been calling company several times to ask them to remove inquiry she said she doesnt know why that was done and it will be fixed but still not fixed yet. Im calling but keep being transferred and spoken to in a rude manner and hung up on every time I call and put my number in it wont get answered and Im being penalized after doing everything legally.\n"
     ]
    }
   ],
   "source": [
    "print(df['Consumer complaint narrative'][67])"
   ]
  },
  {
   "cell_type": "markdown",
   "metadata": {},
   "source": [
    "#### All the textual data resides in the \"Consumer complaint narrative\" which has around 25,90,134 null values \n",
    "#### We drop those rows"
   ]
  },
  {
   "cell_type": "code",
   "execution_count": 10,
   "metadata": {},
   "outputs": [
    {
     "name": "stdout",
     "output_type": "stream",
     "text": [
      "Initial total number of rows 4060417\n",
      "\n",
      "After droping the null values of 'Consumer complaint narrative' columns we are left with total number of rows: 1470283\n",
      "\n",
      "Total number of rows deleted is: 2590134\n"
     ]
    }
   ],
   "source": [
    "initial_rows = df.shape[0]\n",
    "print(\"Initial total number of rows\",initial_rows)\n",
    "df = df.dropna(subset=['Consumer complaint narrative'])\n",
    "print(\"\\nAfter droping the null values of 'Consumer complaint narrative' columns we are left with total number of rows:\",df.shape[0])\n",
    "print(\"\\nTotal number of rows deleted is:\",initial_rows-df.shape[0])"
   ]
  },
  {
   "cell_type": "markdown",
   "metadata": {},
   "source": [
    "#### Checking unique values in the product column"
   ]
  },
  {
   "cell_type": "code",
   "execution_count": 11,
   "metadata": {},
   "outputs": [
    {
     "data": {
      "text/plain": [
       "array(['Credit reporting, credit repair services, or other personal consumer reports',\n",
       "       'Mortgage', 'Vehicle loan or lease', 'Debt collection',\n",
       "       'Credit reporting or other personal consumer reports',\n",
       "       'Money transfer, virtual currency, or money service',\n",
       "       'Checking or savings account', 'Credit card',\n",
       "       'Payday loan, title loan, or personal loan', 'Prepaid card',\n",
       "       'Credit card or prepaid card', 'Student loan',\n",
       "       'Payday loan, title loan, personal loan, or advance loan',\n",
       "       'Consumer Loan', 'Payday loan', 'Bank account or service',\n",
       "       'Credit reporting', 'Money transfers', 'Other financial service',\n",
       "       'Virtual currency', 'Debt or credit management'], dtype=object)"
      ]
     },
     "execution_count": 11,
     "metadata": {},
     "output_type": "execute_result"
    }
   ],
   "source": [
    "df['Product'].unique()"
   ]
  },
  {
   "cell_type": "code",
   "execution_count": 12,
   "metadata": {},
   "outputs": [
    {
     "data": {
      "text/plain": [
       "Product\n",
       "Credit reporting, credit repair services, or other personal consumer reports    771245\n",
       "Debt collection                                                                 218676\n",
       "Mortgage                                                                        108212\n",
       "Credit card or prepaid card                                                     105031\n",
       "Checking or savings account                                                      75844\n",
       "Student loan                                                                     35782\n",
       "Money transfer, virtual currency, or money service                               33180\n",
       "Credit reporting                                                                 31587\n",
       "Vehicle loan or lease                                                            25543\n",
       "Credit card                                                                      18915\n",
       "Payday loan, title loan, or personal loan                                        16781\n",
       "Bank account or service                                                          14885\n",
       "Consumer Loan                                                                     9461\n",
       "Payday loan                                                                       1746\n",
       "Money transfers                                                                   1497\n",
       "Prepaid card                                                                      1454\n",
       "Other financial service                                                            292\n",
       "Credit reporting or other personal consumer reports                                127\n",
       "Virtual currency                                                                    16\n",
       "Payday loan, title loan, personal loan, or advance loan                              6\n",
       "Debt or credit management                                                            3\n",
       "Name: count, dtype: int64"
      ]
     },
     "execution_count": 12,
     "metadata": {},
     "output_type": "execute_result"
    }
   ],
   "source": [
    "df['Product'].value_counts()"
   ]
  },
  {
   "cell_type": "markdown",
   "metadata": {},
   "source": [
    "### We classify them into 4 category now"
   ]
  },
  {
   "cell_type": "code",
   "execution_count": 13,
   "metadata": {},
   "outputs": [
    {
     "name": "stdout",
     "output_type": "stream",
     "text": [
      "We need to segreggate them as...\n",
      "0 Credit reporting, repair, or\n",
      "other\n",
      "1 Debt collection\n",
      "2 Consumer Loan\n",
      "3 Mortgage\n",
      "I have carefully sorted all the unique values of the product column\n"
     ]
    }
   ],
   "source": [
    "print(\"\"\"We need to segreggate them as...\n",
    "0 Credit reporting, repair, or\n",
    "other\n",
    "1 Debt collection\n",
    "2 Consumer Loan\n",
    "3 Mortgage\n",
    "I have carefully sorted all the unique values of the product column\"\"\")\n",
    "\n",
    "category_mapping = {\n",
    "    'Credit reporting, credit repair services, or other personal consumer reports': 0,\n",
    "    'Credit card or prepaid card': 0,\n",
    "    'Credit reporting or other personal consumer reports': 0,\n",
    "    'Credit card': 0,\n",
    "    'Credit reporting': 0,\n",
    "    'Other financial service': 0,\n",
    "    'Money transfer, virtual currency, or money service': 0,\n",
    "    'Prepaid card': 0,\n",
    "    'Debt or credit management': 0,\n",
    "    'Bank account or service': 0,\n",
    "    'Money transfers': 0,\n",
    "    'Virtual currency': 0,\n",
    "    'Checking or savings account': 0,\n",
    "    'Student loan': 2,\n",
    "    'Payday loan, title loan, or personal loan': 2,\n",
    "    'Vehicle loan or lease': 2,\n",
    "    'Payday loan, title loan, personal loan, or advance loan': 2,\n",
    "    'Payday loan': 2,\n",
    "    'Consumer Loan': 2,\n",
    "    'Mortgage': 3,\n",
    "    'Debt collection' : 1\n",
    "}"
   ]
  },
  {
   "cell_type": "code",
   "execution_count": 14,
   "metadata": {},
   "outputs": [
    {
     "name": "stdout",
     "output_type": "stream",
     "text": [
      "We will create a new column having the values as 0, 1, 2, and 3 and name it as Category\n"
     ]
    }
   ],
   "source": [
    "print(\"We will create a new column having the values as 0, 1, 2, and 3 and name it as Category\")\n",
    "\n",
    "# Map the \"Product\" column to the category values using the dictionary\n",
    "df['Category'] = df['Product'].map(category_mapping)\n",
    "\n",
    "# Assign -1 for unmatched categories\n",
    "df['Category'] = df['Category'].fillna(-1)"
   ]
  },
  {
   "cell_type": "code",
   "execution_count": 15,
   "metadata": {},
   "outputs": [
    {
     "name": "stdout",
     "output_type": "stream",
     "text": [
      "Now we have a new coulmn Category:\n"
     ]
    },
    {
     "data": {
      "text/html": [
       "<div>\n",
       "<style scoped>\n",
       "    .dataframe tbody tr th:only-of-type {\n",
       "        vertical-align: middle;\n",
       "    }\n",
       "\n",
       "    .dataframe tbody tr th {\n",
       "        vertical-align: top;\n",
       "    }\n",
       "\n",
       "    .dataframe thead th {\n",
       "        text-align: right;\n",
       "    }\n",
       "</style>\n",
       "<table border=\"1\" class=\"dataframe\">\n",
       "  <thead>\n",
       "    <tr style=\"text-align: right;\">\n",
       "      <th></th>\n",
       "      <th>Date received</th>\n",
       "      <th>Product</th>\n",
       "      <th>Sub-product</th>\n",
       "      <th>Issue</th>\n",
       "      <th>Sub-issue</th>\n",
       "      <th>Consumer complaint narrative</th>\n",
       "      <th>Company public response</th>\n",
       "      <th>Company</th>\n",
       "      <th>State</th>\n",
       "      <th>ZIP code</th>\n",
       "      <th>Tags</th>\n",
       "      <th>Consumer consent provided?</th>\n",
       "      <th>Submitted via</th>\n",
       "      <th>Date sent to company</th>\n",
       "      <th>Company response to consumer</th>\n",
       "      <th>Timely response?</th>\n",
       "      <th>Consumer disputed?</th>\n",
       "      <th>Complaint ID</th>\n",
       "      <th>Category</th>\n",
       "    </tr>\n",
       "  </thead>\n",
       "  <tbody>\n",
       "    <tr>\n",
       "      <th>16</th>\n",
       "      <td>2023-08-23</td>\n",
       "      <td>Credit reporting, credit repair services, or o...</td>\n",
       "      <td>Credit reporting</td>\n",
       "      <td>Problem with a credit reporting company's inve...</td>\n",
       "      <td>Their investigation did not fix an error on yo...</td>\n",
       "      <td>The existence of a derogatory rating on my acc...</td>\n",
       "      <td>Company has responded to the consumer and the ...</td>\n",
       "      <td>ALLY FINANCIAL INC.</td>\n",
       "      <td>FL</td>\n",
       "      <td>33607</td>\n",
       "      <td>NaN</td>\n",
       "      <td>Consent provided</td>\n",
       "      <td>Web</td>\n",
       "      <td>2023-08-23</td>\n",
       "      <td>Closed with explanation</td>\n",
       "      <td>Yes</td>\n",
       "      <td>NaN</td>\n",
       "      <td>7442997</td>\n",
       "      <td>0</td>\n",
       "    </tr>\n",
       "    <tr>\n",
       "      <th>31</th>\n",
       "      <td>2023-08-14</td>\n",
       "      <td>Mortgage</td>\n",
       "      <td>Conventional home mortgage</td>\n",
       "      <td>Struggling to pay mortgage</td>\n",
       "      <td>NaN</td>\n",
       "      <td>XXXX XXXX  is a rip-off company that never giv...</td>\n",
       "      <td>Company has responded to the consumer and the ...</td>\n",
       "      <td>Ocwen Financial Corporation</td>\n",
       "      <td>GA</td>\n",
       "      <td>30094</td>\n",
       "      <td>Older American</td>\n",
       "      <td>Consent provided</td>\n",
       "      <td>Web</td>\n",
       "      <td>2023-08-23</td>\n",
       "      <td>Closed with explanation</td>\n",
       "      <td>Yes</td>\n",
       "      <td>NaN</td>\n",
       "      <td>7399329</td>\n",
       "      <td>3</td>\n",
       "    </tr>\n",
       "    <tr>\n",
       "      <th>32</th>\n",
       "      <td>2023-08-07</td>\n",
       "      <td>Mortgage</td>\n",
       "      <td>Conventional home mortgage</td>\n",
       "      <td>Trouble during payment process</td>\n",
       "      <td>NaN</td>\n",
       "      <td>XXXX Mortgage XXXX XXXX XXXX XXXX XXXX, NJ XXX...</td>\n",
       "      <td>Company has responded to the consumer and the ...</td>\n",
       "      <td>Ocwen Financial Corporation</td>\n",
       "      <td>TX</td>\n",
       "      <td>77545</td>\n",
       "      <td>NaN</td>\n",
       "      <td>Consent provided</td>\n",
       "      <td>Web</td>\n",
       "      <td>2023-08-23</td>\n",
       "      <td>Closed with explanation</td>\n",
       "      <td>Yes</td>\n",
       "      <td>NaN</td>\n",
       "      <td>7364084</td>\n",
       "      <td>3</td>\n",
       "    </tr>\n",
       "    <tr>\n",
       "      <th>39</th>\n",
       "      <td>2023-07-22</td>\n",
       "      <td>Credit reporting, credit repair services, or o...</td>\n",
       "      <td>Credit reporting</td>\n",
       "      <td>Improper use of your report</td>\n",
       "      <td>Reporting company used your report improperly</td>\n",
       "      <td>1 reviewed my Consumer Reports and noticed tha...</td>\n",
       "      <td>Company has responded to the consumer and the ...</td>\n",
       "      <td>TRANSUNION INTERMEDIATE HOLDINGS, INC.</td>\n",
       "      <td>TX</td>\n",
       "      <td>75159</td>\n",
       "      <td>NaN</td>\n",
       "      <td>Consent provided</td>\n",
       "      <td>Web</td>\n",
       "      <td>2023-07-22</td>\n",
       "      <td>Closed with explanation</td>\n",
       "      <td>Yes</td>\n",
       "      <td>NaN</td>\n",
       "      <td>7291284</td>\n",
       "      <td>0</td>\n",
       "    </tr>\n",
       "    <tr>\n",
       "      <th>61</th>\n",
       "      <td>2023-07-22</td>\n",
       "      <td>Credit reporting, credit repair services, or o...</td>\n",
       "      <td>Credit reporting</td>\n",
       "      <td>Improper use of your report</td>\n",
       "      <td>Reporting company used your report improperly</td>\n",
       "      <td>I have been fighting for the last two years to...</td>\n",
       "      <td>Company has responded to the consumer and the ...</td>\n",
       "      <td>TRANSUNION INTERMEDIATE HOLDINGS, INC.</td>\n",
       "      <td>AR</td>\n",
       "      <td>72204</td>\n",
       "      <td>NaN</td>\n",
       "      <td>Consent provided</td>\n",
       "      <td>Web</td>\n",
       "      <td>2023-07-22</td>\n",
       "      <td>Closed with non-monetary relief</td>\n",
       "      <td>Yes</td>\n",
       "      <td>NaN</td>\n",
       "      <td>7291424</td>\n",
       "      <td>0</td>\n",
       "    </tr>\n",
       "  </tbody>\n",
       "</table>\n",
       "</div>"
      ],
      "text/plain": [
       "   Date received                                            Product   \n",
       "16    2023-08-23  Credit reporting, credit repair services, or o...  \\\n",
       "31    2023-08-14                                           Mortgage   \n",
       "32    2023-08-07                                           Mortgage   \n",
       "39    2023-07-22  Credit reporting, credit repair services, or o...   \n",
       "61    2023-07-22  Credit reporting, credit repair services, or o...   \n",
       "\n",
       "                   Sub-product   \n",
       "16            Credit reporting  \\\n",
       "31  Conventional home mortgage   \n",
       "32  Conventional home mortgage   \n",
       "39            Credit reporting   \n",
       "61            Credit reporting   \n",
       "\n",
       "                                                Issue   \n",
       "16  Problem with a credit reporting company's inve...  \\\n",
       "31                         Struggling to pay mortgage   \n",
       "32                     Trouble during payment process   \n",
       "39                        Improper use of your report   \n",
       "61                        Improper use of your report   \n",
       "\n",
       "                                            Sub-issue   \n",
       "16  Their investigation did not fix an error on yo...  \\\n",
       "31                                                NaN   \n",
       "32                                                NaN   \n",
       "39      Reporting company used your report improperly   \n",
       "61      Reporting company used your report improperly   \n",
       "\n",
       "                         Consumer complaint narrative   \n",
       "16  The existence of a derogatory rating on my acc...  \\\n",
       "31  XXXX XXXX  is a rip-off company that never giv...   \n",
       "32  XXXX Mortgage XXXX XXXX XXXX XXXX XXXX, NJ XXX...   \n",
       "39  1 reviewed my Consumer Reports and noticed tha...   \n",
       "61  I have been fighting for the last two years to...   \n",
       "\n",
       "                              Company public response   \n",
       "16  Company has responded to the consumer and the ...  \\\n",
       "31  Company has responded to the consumer and the ...   \n",
       "32  Company has responded to the consumer and the ...   \n",
       "39  Company has responded to the consumer and the ...   \n",
       "61  Company has responded to the consumer and the ...   \n",
       "\n",
       "                                   Company State ZIP code            Tags   \n",
       "16                     ALLY FINANCIAL INC.    FL    33607             NaN  \\\n",
       "31             Ocwen Financial Corporation    GA    30094  Older American   \n",
       "32             Ocwen Financial Corporation    TX    77545             NaN   \n",
       "39  TRANSUNION INTERMEDIATE HOLDINGS, INC.    TX    75159             NaN   \n",
       "61  TRANSUNION INTERMEDIATE HOLDINGS, INC.    AR    72204             NaN   \n",
       "\n",
       "   Consumer consent provided? Submitted via Date sent to company   \n",
       "16           Consent provided           Web           2023-08-23  \\\n",
       "31           Consent provided           Web           2023-08-23   \n",
       "32           Consent provided           Web           2023-08-23   \n",
       "39           Consent provided           Web           2023-07-22   \n",
       "61           Consent provided           Web           2023-07-22   \n",
       "\n",
       "       Company response to consumer Timely response? Consumer disputed?   \n",
       "16          Closed with explanation              Yes                NaN  \\\n",
       "31          Closed with explanation              Yes                NaN   \n",
       "32          Closed with explanation              Yes                NaN   \n",
       "39          Closed with explanation              Yes                NaN   \n",
       "61  Closed with non-monetary relief              Yes                NaN   \n",
       "\n",
       "    Complaint ID  Category  \n",
       "16       7442997         0  \n",
       "31       7399329         3  \n",
       "32       7364084         3  \n",
       "39       7291284         0  \n",
       "61       7291424         0  "
      ]
     },
     "execution_count": 15,
     "metadata": {},
     "output_type": "execute_result"
    }
   ],
   "source": [
    "print(\"Now we have a new coulmn Category:\")\n",
    "df.head()"
   ]
  },
  {
   "cell_type": "code",
   "execution_count": 16,
   "metadata": {},
   "outputs": [
    {
     "name": "stdout",
     "output_type": "stream",
     "text": [
      "All the unqiue values in Category are:\n"
     ]
    },
    {
     "data": {
      "text/plain": [
       "array([0, 3, 2, 1], dtype=int64)"
      ]
     },
     "execution_count": 16,
     "metadata": {},
     "output_type": "execute_result"
    }
   ],
   "source": [
    "print(\"All the unqiue values in Category are:\")\n",
    "df['Category'].unique()"
   ]
  },
  {
   "cell_type": "code",
   "execution_count": 17,
   "metadata": {},
   "outputs": [
    {
     "name": "stdout",
     "output_type": "stream",
     "text": [
      "This is how the class looks like:\n",
      " Category\n",
      "0    1054076\n",
      "1     218676\n",
      "3     108212\n",
      "2      89319\n",
      "Name: count, dtype: int64\n",
      "\n",
      "We can see we have class imbalance We must go for downsampling of dataset:\n"
     ]
    }
   ],
   "source": [
    "print(\"This is how the class looks like:\\n\",df['Category'].value_counts())\n",
    "print(\"\\nWe can see we have class imbalance We must go for downsampling of dataset:\")"
   ]
  },
  {
   "cell_type": "markdown",
   "metadata": {},
   "source": [
    "### Category visualiozation"
   ]
  },
  {
   "cell_type": "code",
   "execution_count": 23,
   "metadata": {},
   "outputs": [
    {
     "data": {
      "image/png": "[encoded data removed]",
      "text/plain": [
       "<Figure size 1200x600 with 1 Axes>"
      ]
     },
     "metadata": {},
     "output_type": "display_data"
    }
   ],
   "source": [
    "import matplotlib.pyplot as plt\n",
    "import seaborn as sns\n",
    "\n",
    "# Create a vertical count plot\n",
    "plt.figure(figsize=(12,6))\n",
    "ax = sns.countplot(x=df['Category'])\n",
    "\n",
    "# Add title\n",
    "plt.title('Distribution of Complaints by Category')\n",
    "\n",
    "# Define legend labels\n",
    "legend_labels = {\n",
    "    0: \"0 Credit reporting, repair, or other\",\n",
    "    1: \"1 Debt collection\",\n",
    "    2: \"2 Consumer Loan\",\n",
    "    3: \"3 Mortgage\"\n",
    "}\n",
    "\n",
    "# Create custom legend\n",
    "handles = [plt.Line2D([0], [0], marker='o', color='w', markerfacecolor='gray', markersize=10) for _ in legend_labels.values()]\n",
    "plt.legend(handles, list(legend_labels.values()), title=\"Categories\", loc=\"upper right\")\n",
    "\n",
    "plt.show()\n"
   ]
  },
  {
   "cell_type": "markdown",
   "metadata": {},
   "source": [
    "### We go for downsampling of the data"
   ]
  },
  {
   "cell_type": "code",
   "execution_count": 24,
   "metadata": {},
   "outputs": [
    {
     "name": "stdout",
     "output_type": "stream",
     "text": [
      "Storing all the values as a df for each of the conditions\n"
     ]
    }
   ],
   "source": [
    "print(\"Storing all the values as a df for each of the conditions\")\n",
    "df_0 = df[df['Category'] == 0]\n",
    "df_1 = df[df['Category'] == 1]\n",
    "df_2 = df[df['Category'] == 2]\n",
    "df_3 = df[df['Category'] == 3]"
   ]
  },
  {
   "cell_type": "code",
   "execution_count": 25,
   "metadata": {},
   "outputs": [
    {
     "name": "stdout",
     "output_type": "stream",
     "text": [
      "Storing the length of each class present in Category column:\n",
      "\n",
      "For reference:\n",
      " Category\n",
      "0    1054076\n",
      "1     218676\n",
      "3     108212\n",
      "2      89319\n",
      "Name: count, dtype: int64\n"
     ]
    },
    {
     "data": {
      "text/plain": [
       "(1054076, 218676, 108212, 89319)"
      ]
     },
     "execution_count": 25,
     "metadata": {},
     "output_type": "execute_result"
    }
   ],
   "source": [
    "print(\"Storing the length of each class present in Category column:\\n\")\n",
    "print(\"For reference:\\n\",df.Category.value_counts())\n",
    "count_0, count_1, count_3, count_2 = df.Category.value_counts()\n",
    "count_0, count_1, count_3, count_2"
   ]
  },
  {
   "cell_type": "code",
   "execution_count": 26,
   "metadata": {},
   "outputs": [
    {
     "name": "stdout",
     "output_type": "stream",
     "text": [
      "Randomly selecting count_2 i.e 89319 values from the new df create to ensure all class have same length\n"
     ]
    },
    {
     "data": {
      "text/plain": [
       "((89319, 19), (89319, 19), (89319, 19))"
      ]
     },
     "execution_count": 26,
     "metadata": {},
     "output_type": "execute_result"
    }
   ],
   "source": [
    "print(\"Randomly selecting count_2 i.e 89319 values from the new df create to ensure all class have same length\")\n",
    "class_0 = df_0.sample(count_2)\n",
    "class_1 = df_1.sample(count_2)\n",
    "class_3 = df_3.sample(count_2)\n",
    "class_0.shape,class_1.shape,class_3.shape"
   ]
  },
  {
   "cell_type": "code",
   "execution_count": 27,
   "metadata": {},
   "outputs": [
    {
     "name": "stdout",
     "output_type": "stream",
     "text": [
      "Now we concat each df into new df:\n"
     ]
    },
    {
     "data": {
      "text/plain": [
       "Category\n",
       "0    89319\n",
       "1    89319\n",
       "2    89319\n",
       "3    89319\n",
       "Name: count, dtype: int64"
      ]
     },
     "execution_count": 27,
     "metadata": {},
     "output_type": "execute_result"
    }
   ],
   "source": [
    "print(\"Now we concat each df into new df:\")\n",
    "underSampling_df = pd.concat([class_0,class_1,df_2,class_3], axis=0)\n",
    "underSampling_df['Category'].value_counts()"
   ]
  },
  {
   "cell_type": "code",
   "execution_count": 28,
   "metadata": {},
   "outputs": [
    {
     "name": "stdout",
     "output_type": "stream",
     "text": [
      "This is the new shape of the df:\n",
      "It has 3 lakh fifty seven two hundred and sevenety six rows and 19 columns\n"
     ]
    },
    {
     "data": {
      "text/plain": [
       "(357276, 19)"
      ]
     },
     "execution_count": 28,
     "metadata": {},
     "output_type": "execute_result"
    }
   ],
   "source": [
    "print(\"This is the new shape of the df:\\nIt has 3 lakh fifty seven two hundred and sevenety six rows and 19 columns\")\n",
    "underSampling_df.shape"
   ]
  },
  {
   "cell_type": "code",
   "execution_count": 29,
   "metadata": {},
   "outputs": [
    {
     "data": {
      "text/html": [
       "<div>\n",
       "<style scoped>\n",
       "    .dataframe tbody tr th:only-of-type {\n",
       "        vertical-align: middle;\n",
       "    }\n",
       "\n",
       "    .dataframe tbody tr th {\n",
       "        vertical-align: top;\n",
       "    }\n",
       "\n",
       "    .dataframe thead th {\n",
       "        text-align: right;\n",
       "    }\n",
       "</style>\n",
       "<table border=\"1\" class=\"dataframe\">\n",
       "  <thead>\n",
       "    <tr style=\"text-align: right;\">\n",
       "      <th></th>\n",
       "      <th>Date received</th>\n",
       "      <th>Product</th>\n",
       "      <th>Sub-product</th>\n",
       "      <th>Issue</th>\n",
       "      <th>Sub-issue</th>\n",
       "      <th>Consumer complaint narrative</th>\n",
       "      <th>Company public response</th>\n",
       "      <th>Company</th>\n",
       "      <th>State</th>\n",
       "      <th>ZIP code</th>\n",
       "      <th>Tags</th>\n",
       "      <th>Consumer consent provided?</th>\n",
       "      <th>Submitted via</th>\n",
       "      <th>Date sent to company</th>\n",
       "      <th>Company response to consumer</th>\n",
       "      <th>Timely response?</th>\n",
       "      <th>Consumer disputed?</th>\n",
       "      <th>Complaint ID</th>\n",
       "      <th>Category</th>\n",
       "    </tr>\n",
       "  </thead>\n",
       "  <tbody>\n",
       "    <tr>\n",
       "      <th>3496847</th>\n",
       "      <td>2022-04-28</td>\n",
       "      <td>Credit reporting, credit repair services, or o...</td>\n",
       "      <td>Credit reporting</td>\n",
       "      <td>Improper use of your report</td>\n",
       "      <td>Reporting company used your report improperly</td>\n",
       "      <td>In accordance with the Fair Credit Reporting a...</td>\n",
       "      <td>NaN</td>\n",
       "      <td>EQUIFAX, INC.</td>\n",
       "      <td>NC</td>\n",
       "      <td>28027</td>\n",
       "      <td>NaN</td>\n",
       "      <td>Consent provided</td>\n",
       "      <td>Web</td>\n",
       "      <td>2022-04-28</td>\n",
       "      <td>Closed with explanation</td>\n",
       "      <td>Yes</td>\n",
       "      <td>NaN</td>\n",
       "      <td>5509552</td>\n",
       "      <td>0</td>\n",
       "    </tr>\n",
       "    <tr>\n",
       "      <th>442427</th>\n",
       "      <td>2022-02-15</td>\n",
       "      <td>Credit reporting, credit repair services, or o...</td>\n",
       "      <td>Credit reporting</td>\n",
       "      <td>Incorrect information on your report</td>\n",
       "      <td>Information belongs to someone else</td>\n",
       "      <td>An itemized bill does not imply that the debt ...</td>\n",
       "      <td>Company has responded to the consumer and the ...</td>\n",
       "      <td>Experian Information Solutions Inc.</td>\n",
       "      <td>NJ</td>\n",
       "      <td>07305</td>\n",
       "      <td>NaN</td>\n",
       "      <td>Consent provided</td>\n",
       "      <td>Web</td>\n",
       "      <td>2022-02-15</td>\n",
       "      <td>Closed with explanation</td>\n",
       "      <td>Yes</td>\n",
       "      <td>NaN</td>\n",
       "      <td>5225983</td>\n",
       "      <td>0</td>\n",
       "    </tr>\n",
       "    <tr>\n",
       "      <th>3092575</th>\n",
       "      <td>2023-06-26</td>\n",
       "      <td>Credit reporting, credit repair services, or o...</td>\n",
       "      <td>Credit reporting</td>\n",
       "      <td>Improper use of your report</td>\n",
       "      <td>Reporting company used your report improperly</td>\n",
       "      <td>In accordance with the Fair Credit Reporting a...</td>\n",
       "      <td>NaN</td>\n",
       "      <td>EQUIFAX, INC.</td>\n",
       "      <td>AR</td>\n",
       "      <td>723XX</td>\n",
       "      <td>NaN</td>\n",
       "      <td>Consent provided</td>\n",
       "      <td>Web</td>\n",
       "      <td>2023-06-26</td>\n",
       "      <td>Closed with non-monetary relief</td>\n",
       "      <td>Yes</td>\n",
       "      <td>NaN</td>\n",
       "      <td>7166101</td>\n",
       "      <td>0</td>\n",
       "    </tr>\n",
       "    <tr>\n",
       "      <th>1465252</th>\n",
       "      <td>2015-07-08</td>\n",
       "      <td>Credit card</td>\n",
       "      <td>NaN</td>\n",
       "      <td>Delinquent account</td>\n",
       "      <td>NaN</td>\n",
       "      <td>I 've had this Bank of America credit card sin...</td>\n",
       "      <td>Company chooses not to provide a public response</td>\n",
       "      <td>BANK OF AMERICA, NATIONAL ASSOCIATION</td>\n",
       "      <td>MD</td>\n",
       "      <td>217XX</td>\n",
       "      <td>NaN</td>\n",
       "      <td>Consent provided</td>\n",
       "      <td>Web</td>\n",
       "      <td>2015-07-08</td>\n",
       "      <td>Closed with monetary relief</td>\n",
       "      <td>Yes</td>\n",
       "      <td>Yes</td>\n",
       "      <td>1457482</td>\n",
       "      <td>0</td>\n",
       "    </tr>\n",
       "    <tr>\n",
       "      <th>285499</th>\n",
       "      <td>2019-01-08</td>\n",
       "      <td>Credit reporting, credit repair services, or o...</td>\n",
       "      <td>Credit reporting</td>\n",
       "      <td>Incorrect information on your report</td>\n",
       "      <td>Account status incorrect</td>\n",
       "      <td>XXXX XXXX / XXXX XXXX XXXX WENT ON MY TRANSUNI...</td>\n",
       "      <td>Company has responded to the consumer and the ...</td>\n",
       "      <td>TRANSUNION INTERMEDIATE HOLDINGS, INC.</td>\n",
       "      <td>TN</td>\n",
       "      <td>37066</td>\n",
       "      <td>NaN</td>\n",
       "      <td>Consent provided</td>\n",
       "      <td>Web</td>\n",
       "      <td>2019-01-08</td>\n",
       "      <td>Closed with explanation</td>\n",
       "      <td>Yes</td>\n",
       "      <td>NaN</td>\n",
       "      <td>3119354</td>\n",
       "      <td>0</td>\n",
       "    </tr>\n",
       "  </tbody>\n",
       "</table>\n",
       "</div>"
      ],
      "text/plain": [
       "        Date received                                            Product   \n",
       "3496847    2022-04-28  Credit reporting, credit repair services, or o...  \\\n",
       "442427     2022-02-15  Credit reporting, credit repair services, or o...   \n",
       "3092575    2023-06-26  Credit reporting, credit repair services, or o...   \n",
       "1465252    2015-07-08                                        Credit card   \n",
       "285499     2019-01-08  Credit reporting, credit repair services, or o...   \n",
       "\n",
       "              Sub-product                                 Issue   \n",
       "3496847  Credit reporting           Improper use of your report  \\\n",
       "442427   Credit reporting  Incorrect information on your report   \n",
       "3092575  Credit reporting           Improper use of your report   \n",
       "1465252               NaN                    Delinquent account   \n",
       "285499   Credit reporting  Incorrect information on your report   \n",
       "\n",
       "                                             Sub-issue   \n",
       "3496847  Reporting company used your report improperly  \\\n",
       "442427             Information belongs to someone else   \n",
       "3092575  Reporting company used your report improperly   \n",
       "1465252                                            NaN   \n",
       "285499                        Account status incorrect   \n",
       "\n",
       "                              Consumer complaint narrative   \n",
       "3496847  In accordance with the Fair Credit Reporting a...  \\\n",
       "442427   An itemized bill does not imply that the debt ...   \n",
       "3092575  In accordance with the Fair Credit Reporting a...   \n",
       "1465252  I 've had this Bank of America credit card sin...   \n",
       "285499   XXXX XXXX / XXXX XXXX XXXX WENT ON MY TRANSUNI...   \n",
       "\n",
       "                                   Company public response   \n",
       "3496847                                                NaN  \\\n",
       "442427   Company has responded to the consumer and the ...   \n",
       "3092575                                                NaN   \n",
       "1465252   Company chooses not to provide a public response   \n",
       "285499   Company has responded to the consumer and the ...   \n",
       "\n",
       "                                        Company State ZIP code Tags   \n",
       "3496847                           EQUIFAX, INC.    NC    28027  NaN  \\\n",
       "442427      Experian Information Solutions Inc.    NJ    07305  NaN   \n",
       "3092575                           EQUIFAX, INC.    AR    723XX  NaN   \n",
       "1465252   BANK OF AMERICA, NATIONAL ASSOCIATION    MD    217XX  NaN   \n",
       "285499   TRANSUNION INTERMEDIATE HOLDINGS, INC.    TN    37066  NaN   \n",
       "\n",
       "        Consumer consent provided? Submitted via Date sent to company   \n",
       "3496847           Consent provided           Web           2022-04-28  \\\n",
       "442427            Consent provided           Web           2022-02-15   \n",
       "3092575           Consent provided           Web           2023-06-26   \n",
       "1465252           Consent provided           Web           2015-07-08   \n",
       "285499            Consent provided           Web           2019-01-08   \n",
       "\n",
       "            Company response to consumer Timely response? Consumer disputed?   \n",
       "3496847          Closed with explanation              Yes                NaN  \\\n",
       "442427           Closed with explanation              Yes                NaN   \n",
       "3092575  Closed with non-monetary relief              Yes                NaN   \n",
       "1465252      Closed with monetary relief              Yes                Yes   \n",
       "285499           Closed with explanation              Yes                NaN   \n",
       "\n",
       "         Complaint ID  Category  \n",
       "3496847       5509552         0  \n",
       "442427        5225983         0  \n",
       "3092575       7166101         0  \n",
       "1465252       1457482         0  \n",
       "285499        3119354         0  "
      ]
     },
     "execution_count": 29,
     "metadata": {},
     "output_type": "execute_result"
    }
   ],
   "source": [
    "underSampling_df.head()"
   ]
  },
  {
   "cell_type": "code",
   "execution_count": 30,
   "metadata": {},
   "outputs": [
    {
     "data": {
      "image/png": "[encoded data removed]",
      "text/plain": [
       "<Figure size 1200x600 with 1 Axes>"
      ]
     },
     "metadata": {},
     "output_type": "display_data"
    }
   ],
   "source": [
    "import matplotlib.pyplot as plt\n",
    "import seaborn as sns\n",
    "\n",
    "# Create a vertical count plot\n",
    "plt.figure(figsize=(12,6))\n",
    "ax = sns.countplot(x=underSampling_df['Category'])\n",
    "\n",
    "# Add title\n",
    "plt.title('Distribution of Complaints by Category')\n",
    "\n",
    "# Define legend labels\n",
    "legend_labels = {\n",
    "    0: \"0 Credit reporting, repair, or other\",\n",
    "    1: \"1 Debt collection\",\n",
    "    2: \"2 Consumer Loan\",\n",
    "    3: \"3 Mortgage\"\n",
    "}\n",
    "\n",
    "# Create custom legend\n",
    "handles = [plt.Line2D([0], [0], marker='o', color='w', markerfacecolor='gray', markersize=10) for _ in legend_labels.values()]\n",
    "plt.legend(handles, list(legend_labels.values()), title=\"Categories\", loc=\"upper right\")\n",
    "\n",
    "plt.show()\n"
   ]
  },
  {
   "cell_type": "markdown",
   "metadata": {},
   "source": [
    "### Now the class is balanced after performing downsampling of dataset"
   ]
  },
  {
   "cell_type": "markdown",
   "metadata": {},
   "source": [
    "# -> 2. Text Pre-Processing"
   ]
  },
  {
   "cell_type": "markdown",
   "metadata": {},
   "source": [
    "### Now we create a new dataframe"
   ]
  },
  {
   "cell_type": "code",
   "execution_count": 32,
   "metadata": {},
   "outputs": [],
   "source": [
    "underSampling_df = df[['Consumer complaint narrative','Category']]"
   ]
  },
  {
   "cell_type": "code",
   "execution_count": 33,
   "metadata": {},
   "outputs": [],
   "source": [
    "\n",
    "import spacy\n",
    "import re\n",
    "\n",
    "# Load the spaCy English model\n",
    "nlp = spacy.load('en_core_web_sm')\n",
    "\n",
    "def text_Cleaning(text):\n",
    "    pattern = r'(XX/XX/\\d{4}|XXXX|XX|\\W|\\d)+'  \n",
    "    text = re.sub(pattern, \" \", text)\n",
    "    text = text.lower().strip()\n",
    "    doc = nlp(text)\n",
    "    text = ' '.join([token.lemma_ for token in doc if not token.is_stop])\n",
    "\n",
    "    return text"
   ]
  },
  {
   "cell_type": "code",
   "execution_count": 34,
   "metadata": {},
   "outputs": [
    {
     "name": "stdout",
     "output_type": "stream",
     "text": [
      "<class 'str'> \n",
      " love yt leacture ans ml video\n"
     ]
    }
   ],
   "source": [
    "# text =\"\"\"'In XX/XX/XXXX I bought my first home, a townhouse in XXXX, MA. The mortgage was an adjustable rate, interest only, no income verification with server refinance penalties. Originally the loan was though XXXX XXXX, but latter taken over by Wells Fargo. Knowing what I know now, I should have never been put in such a mortgage. My credit score was XXXX and I had a good paying job with the ability to put down 20 %. It took a year before the reality of this mortgage came to light. To make matters worse the automobile industry went through great financial trouble and my position was eliminated.\\n\\nThe next decade was a series of negotiations with Wells Fargo and trying to take advantage of various government programs with minimal success. At one point it appeared I qualified for HARP only to have Wells Fargo come back a few years later and tell is was a mistake. As a result, I had to pay back any monies taken off the mortgage and incurred a number of fees. Even the one refinance the bank did grant ended with a payment higher than previous one.\\n\\nThen sometime in XX/XX/XXXX a foreclosure notice arrived at my home. Not knowing what to do, I sought counsel from XXXX XXXX in XXXX, MA. Mr. XXXX recommended Chapter XXXX Bankruptcy. The total monthly payments were extremely high at about {$4500.00} per a month. The payback payments were more than the original mortgage payment. It was simply too much to handle and Mr. XXXX advised to withdraw from the bankruptcy in XX/XX/XXXX before it was confirmed. He instructed doing so would guarantee reimbursement of any payments made. As of XX/XX/XXXX, I have not received any monies even though I have asked Mr. XXXX about this matter on several occasions.\\n\\nShortly after Mr. XXXX withdrew the Chapter XXXX   Bankruptcy, I contacted Wells Fargo about a short sale and was told I qualified for one. At no time did Wells Fargo disclose there were specific guidelines and procedures for a short sale. I requested information and any accompanying paper work to file for a short sale, but never received any such documents from Wells Fargo.\\n\\nWithin two months after dismissing out of Chapter XXXX  Bankruptcy, a second foreclosure noticed arrived. At this point, it was clear a short sale was my best option. I went back to XXXX XXXX for advice. His advice was to file a second Chapter XXXX Bankruptcy. He instructed me I had to file bankruptcy now to save the home and that I could NOT do a short sale when the home was under foreclosure. He told me I could do the short sale later after the bankruptcy and that I could NOT do a short sale while in bankruptcy.\\n\\nMr. XXXX  dismissed me out of the Chapter XXXX Bankruptcy before the court date on XX/XX/XXXX. I am not sure of the exact date, because he did not contact me. I found out though my husband. From what I understand Mr. XXXX spoke to my husband over the phone and told him he was going to dismiss the Chapter XXXX Bankruptcy. If I had to guess, it was sometime shortly after our meeting on XX/XX/XXXX, where Mr. XXXX  was paid.\\n\\nOn Friday XX/XX/XXXX a third foreclosure notice arrived and on Monday XX/XX/XXXX I spoke to Well Fargo and was told I had to request a short sale 37 days prior to the foreclosure day. The foreclosure is scheduled for XX/XX/XXXX, making my request about 5 days short.\\n\\nThis information was devastating and surprising. Both Wells Fargo and Mr. XXXX neglected to inform me of this critical 37 day rule along with other critical information. After consulting a second counsel, it can be argued with confidence Mr. XXXX did misinform and misguided me.\\n\\nCurrently, my home will be foreclosed on XX/XX/XXXX and I missed the short sale request by 5 days. After paying XXXX XXXX {$7700.00} and not receiving my payments back from the courts for {$5000.00}, my situation is frustrating and has caused great distress in my life. If I had received better counsel there is no doubt my situation would be different.'\n",
    "# \"\"\"\n",
    "text = 'I love YT leacture ans ML videos!'\n",
    "\n",
    "ans = text_Cleaning(text)\n",
    "print(type(ans),\"\\n\",ans)"
   ]
  },
  {
   "cell_type": "code",
   "execution_count": 119,
   "metadata": {},
   "outputs": [],
   "source": [
    "underSampling_df['Spacy_preProcessed_Complaints'] = df['Consumer complaint narrative'].apply(text_Cleaning)"
   ]
  },
  {
   "cell_type": "code",
   "execution_count": 121,
   "metadata": {},
   "outputs": [
    {
     "data": {
      "text/html": [
       "<div>\n",
       "<style scoped>\n",
       "    .dataframe tbody tr th:only-of-type {\n",
       "        vertical-align: middle;\n",
       "    }\n",
       "\n",
       "    .dataframe tbody tr th {\n",
       "        vertical-align: top;\n",
       "    }\n",
       "\n",
       "    .dataframe thead th {\n",
       "        text-align: right;\n",
       "    }\n",
       "</style>\n",
       "<table border=\"1\" class=\"dataframe\">\n",
       "  <thead>\n",
       "    <tr style=\"text-align: right;\">\n",
       "      <th></th>\n",
       "      <th>Category</th>\n",
       "      <th>Consumer complaint narrative</th>\n",
       "      <th>Spacy_preProcessed_Complaints</th>\n",
       "    </tr>\n",
       "  </thead>\n",
       "  <tbody>\n",
       "    <tr>\n",
       "      <th>1119784</th>\n",
       "      <td>2</td>\n",
       "      <td>XXXX XXXX, XXXX RE : Swindling consumers selli...</td>\n",
       "      <td>swindle consumer sell broken car consumer mone...</td>\n",
       "    </tr>\n",
       "    <tr>\n",
       "      <th>1361280</th>\n",
       "      <td>2</td>\n",
       "      <td>) In an effort to make sure we are covered, I ...</td>\n",
       "      <td>effort sure cover send complaint situation bbv...</td>\n",
       "    </tr>\n",
       "    <tr>\n",
       "      <th>3579534</th>\n",
       "      <td>0</td>\n",
       "      <td>Throughout the pandemic I made great efforts t...</td>\n",
       "      <td>pandemic great effort payment credit card rema...</td>\n",
       "    </tr>\n",
       "    <tr>\n",
       "      <th>1902835</th>\n",
       "      <td>0</td>\n",
       "      <td>I obtained my free credit report and noticed a...</td>\n",
       "      <td>obtain free credit report notice credit card r...</td>\n",
       "    </tr>\n",
       "    <tr>\n",
       "      <th>3821778</th>\n",
       "      <td>0</td>\n",
       "      <td>I was under covid forbearance with XXXXXXXX XX...</td>\n",
       "      <td>covid forbearance prior loan modification exec...</td>\n",
       "    </tr>\n",
       "  </tbody>\n",
       "</table>\n",
       "</div>"
      ],
      "text/plain": [
       "         Category                       Consumer complaint narrative   \n",
       "1119784         2  XXXX XXXX, XXXX RE : Swindling consumers selli...  \\\n",
       "1361280         2  ) In an effort to make sure we are covered, I ...   \n",
       "3579534         0  Throughout the pandemic I made great efforts t...   \n",
       "1902835         0  I obtained my free credit report and noticed a...   \n",
       "3821778         0  I was under covid forbearance with XXXXXXXX XX...   \n",
       "\n",
       "                             Spacy_preProcessed_Complaints  \n",
       "1119784  swindle consumer sell broken car consumer mone...  \n",
       "1361280  effort sure cover send complaint situation bbv...  \n",
       "3579534  pandemic great effort payment credit card rema...  \n",
       "1902835  obtain free credit report notice credit card r...  \n",
       "3821778  covid forbearance prior loan modification exec...  "
      ]
     },
     "execution_count": 121,
     "metadata": {},
     "output_type": "execute_result"
    }
   ],
   "source": [
    "underSampling_df.sample(5)"
   ]
  },
  {
   "cell_type": "markdown",
   "metadata": {},
   "source": [
    "## Save the DataFrame with selected columns to a CSV file"
   ]
  },
  {
   "cell_type": "code",
   "execution_count": 123,
   "metadata": {},
   "outputs": [],
   "source": [
    "underSampling_df.to_csv('Complaints_SpacyProcessed.csv', index=False)"
   ]
  }
 ],
 "metadata": {
  "kernelspec": {
   "display_name": "Python 3",
   "language": "python",
   "name": "python3"
  },
  "language_info": {
   "codemirror_mode": {
    "name": "ipython",
    "version": 3
   },
   "file_extension": ".py",
   "mimetype": "text/x-python",
   "name": "python",
   "nbconvert_exporter": "python",
   "pygments_lexer": "ipython3",
   "version": "3.11.4"
  },
  "orig_nbformat": 4
 },
 "nbformat": 4,
 "nbformat_minor": 2
}
